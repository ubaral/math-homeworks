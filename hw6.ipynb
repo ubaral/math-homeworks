{
 "cells": [
  {
   "cell_type": "code",
   "execution_count": 3,
   "metadata": {},
   "outputs": [],
   "source": [
    "import numpy as np\n",
    "import scipy as sp\n",
    "import matplotlib.pyplot as plt"
   ]
  },
  {
   "cell_type": "code",
   "execution_count": 37,
   "metadata": {},
   "outputs": [],
   "source": [
    "def sample_from_poly(f, t_start = 0, t_end=1, n=0.5):\n",
    "    t_vals = np.arange(t_start, t_end + n, n)\n",
    "    ft_pts = [f(t) for t in t_vals]\n",
    "    return ft_pts\n",
    "    \n",
    "def plot_2d_pts(x_pts, y_pts, n = .01, col = 'r', title='', abs_ylim=None):\n",
    "    plt.plot(x_pts, y_pts, 'ro')\n",
    "    plt.axvline(x=0, ls='-', c='black', lw=0.5)\n",
    "    plt.axhline(y=0, ls='-', c='black', lw=0.5)\n",
    "    plt.title(title)\n",
    "    if abs_ylim:\n",
    "        plt.ylim(-5, 5)\n",
    "    plt.show()\n",
    "\n",
    "def poly_from_coeffs(coeffs):\n",
    "    return lambda x: np.dot(np.array([1, x, x**2, x**3]),coeffs)\n",
    "    \n",
    "def bezier(endpoints, left_guidepoints, right_guidepoints):\n",
    "    coeff_lst = []\n",
    "    assert(left_guidepoints.shape[0] == right_guidepoints.shape[0])\n",
    "    \n",
    "    for i in range(left_guidepoints.shape[0]):        \n",
    "        a_0 = endpoints[i, 0]\n",
    "        b_0 = endpoints[i, 1]\n",
    "        \n",
    "        a_1 = 3*(left_guidepoints[i,0] - endpoints[i,0])\n",
    "        b_1 = 3*(left_guidepoints[i,1] - endpoints[i,1])\n",
    "        \n",
    "        a_2 = 3*(endpoints[i,0] + right_guidepoints[i, 0] -  2*left_guidepoints[i, 0] )\n",
    "        b_2 = 3*(endpoints[i,1] + right_guidepoints[i, 1] -  2*left_guidepoints[i, 1] )\n",
    "        \n",
    "        a_3 = endpoints[i+1, 0] - endpoints[i, 0] + 3*left_guidepoints[i, 0] - 3*right_guidepoints[i, 0]   \n",
    "        b_3 = endpoints[i+1, 1] - endpoints[i, 1] + 3*left_guidepoints[i, 1] - 3*right_guidepoints[i, 1]\n",
    "        \n",
    "        coeff_lst += [[a_0,a_1,a_2,a_3], [b_0,b_1,b_2,b_3]]\n",
    "    \n",
    "    return np.matrix(coeff_lst)\n"
   ]
  },
  {
   "cell_type": "code",
   "execution_count": 38,
   "metadata": {},
   "outputs": [],
   "source": [
    "endpts = np.matrix([[3,6],[2,2],[6,6],[5,2],[6.5, 3]])\n",
    "lft_guidepts = np.matrix([[3.3,6.5],[2.8,3.0],[5.8,5.0],[5.5,2.2]])\n",
    "rt_guidepts = np.matrix([[2.5,2.5],[5.0,5.8],[4.5,2.5],[6.4,2.8]])\n",
    "\n",
    "curves = bezier(endpts, lft_guidepts, rt_guidepts)\n"
   ]
  },
  {
   "cell_type": "code",
   "execution_count": 47,
   "metadata": {},
   "outputs": [
    {
     "data": {
      "image/png": "[encoded data removed]",
      "text/plain": [
       "<matplotlib.figure.Figure at 0x26222725240>"
      ]
     },
     "metadata": {},
     "output_type": "display_data"
    }
   ],
   "source": [
    "xPts, yPts = np.array([]), np.array([])\n",
    "for i in np.arange(0,curves.shape[0],2):\n",
    "    x_samples = sample_from_poly( poly_from_coeffs( np.array(curves[i, :]).flatten() ), n=.005)\n",
    "    y_samples = sample_from_poly( poly_from_coeffs( np.array(curves[i+1, :]).flatten() ), n=.005)\n",
    "\n",
    "    xPts = np.append(xPts, x_samples)\n",
    "    yPts = np.append(yPts, y_samples)\n",
    "\n",
    "plot_2d_pts(-1*xPts, yPts)"
   ]
  },
  {
   "cell_type": "code",
   "execution_count": null,
   "metadata": {
    "collapsed": true
   },
   "outputs": [],
   "source": []
  },
  {
   "cell_type": "code",
   "execution_count": null,
   "metadata": {
    "collapsed": true
   },
   "outputs": [],
   "source": []
  }
 ],
 "metadata": {
  "kernelspec": {
   "display_name": "Python 3",
   "language": "python",
   "name": "python3"
  },
  "language_info": {
   "codemirror_mode": {
    "name": "ipython",
    "version": 3
   },
   "file_extension": ".py",
   "mimetype": "text/x-python",
   "name": "python",
   "nbconvert_exporter": "python",
   "pygments_lexer": "ipython3",
   "version": "3.6.1"
  }
 },
 "nbformat": 4,
 "nbformat_minor": 2
}
